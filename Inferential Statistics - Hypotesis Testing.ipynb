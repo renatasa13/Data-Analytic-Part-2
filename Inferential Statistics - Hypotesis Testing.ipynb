{
 "cells": [
  {
   "cell_type": "code",
   "execution_count": 1,
   "id": "25202dac",
   "metadata": {},
   "outputs": [],
   "source": [
    "import pandas as pd\n",
    "from scipy import stats\n",
    "from statsmodels.stats import weightstats as stests"
   ]
  },
  {
   "cell_type": "code",
   "execution_count": 2,
   "id": "6f69f491",
   "metadata": {},
   "outputs": [],
   "source": [
    "df = pd.read_csv('Life_expectancy.csv')"
   ]
  },
  {
   "cell_type": "code",
   "execution_count": 3,
   "id": "ce5ab2f2",
   "metadata": {},
   "outputs": [
    {
     "data": {
      "text/html": [
       "<div>\n",
       "<style scoped>\n",
       "    .dataframe tbody tr th:only-of-type {\n",
       "        vertical-align: middle;\n",
       "    }\n",
       "\n",
       "    .dataframe tbody tr th {\n",
       "        vertical-align: top;\n",
       "    }\n",
       "\n",
       "    .dataframe thead th {\n",
       "        text-align: right;\n",
       "    }\n",
       "</style>\n",
       "<table border=\"1\" class=\"dataframe\">\n",
       "  <thead>\n",
       "    <tr style=\"text-align: right;\">\n",
       "      <th></th>\n",
       "      <th>Country</th>\n",
       "      <th>Life expectancy males</th>\n",
       "      <th>Life expectancy females</th>\n",
       "      <th>Birth rate</th>\n",
       "      <th>Death rate</th>\n",
       "    </tr>\n",
       "  </thead>\n",
       "  <tbody>\n",
       "    <tr>\n",
       "      <th>0</th>\n",
       "      <td>Hong Kong *</td>\n",
       "      <td>83.2 years</td>\n",
       "      <td>87.9 years</td>\n",
       "      <td>5.0 ‰</td>\n",
       "      <td>6.9 ‰</td>\n",
       "    </tr>\n",
       "    <tr>\n",
       "      <th>1</th>\n",
       "      <td>Macao *</td>\n",
       "      <td>82.8 years</td>\n",
       "      <td>87.9 years</td>\n",
       "      <td>10.1 ‰</td>\n",
       "      <td>4.1 ‰</td>\n",
       "    </tr>\n",
       "    <tr>\n",
       "      <th>2</th>\n",
       "      <td>Switzerland</td>\n",
       "      <td>81.9 years</td>\n",
       "      <td>85.9 years</td>\n",
       "      <td>10.3 ‰</td>\n",
       "      <td>8.2 ‰</td>\n",
       "    </tr>\n",
       "    <tr>\n",
       "      <th>3</th>\n",
       "      <td>Iceland</td>\n",
       "      <td>81.8 years</td>\n",
       "      <td>84.5 years</td>\n",
       "      <td>13.1 ‰</td>\n",
       "      <td>6.3 ‰</td>\n",
       "    </tr>\n",
       "    <tr>\n",
       "      <th>4</th>\n",
       "      <td>Norway</td>\n",
       "      <td>81.7 years</td>\n",
       "      <td>84.7 years</td>\n",
       "      <td>10.4 ‰</td>\n",
       "      <td>7.8 ‰</td>\n",
       "    </tr>\n",
       "  </tbody>\n",
       "</table>\n",
       "</div>"
      ],
      "text/plain": [
       "       Country Life expectancy males Life expectancy females Birth rate  \\\n",
       "0  Hong Kong *            83.2 years              87.9 years      5.0 ‰   \n",
       "1      Macao *            82.8 years              87.9 years     10.1 ‰   \n",
       "2  Switzerland            81.9 years              85.9 years     10.3 ‰   \n",
       "3      Iceland            81.8 years              84.5 years     13.1 ‰   \n",
       "4       Norway            81.7 years              84.7 years     10.4 ‰   \n",
       "\n",
       "  Death rate  \n",
       "0      6.9 ‰  \n",
       "1      4.1 ‰  \n",
       "2      8.2 ‰  \n",
       "3      6.3 ‰  \n",
       "4      7.8 ‰  "
      ]
     },
     "execution_count": 3,
     "metadata": {},
     "output_type": "execute_result"
    }
   ],
   "source": [
    "df.head()"
   ]
  },
  {
   "cell_type": "code",
   "execution_count": 4,
   "id": "2cdff418",
   "metadata": {},
   "outputs": [
    {
     "name": "stdout",
     "output_type": "stream",
     "text": [
      "<class 'pandas.core.frame.DataFrame'>\n",
      "RangeIndex: 120 entries, 0 to 119\n",
      "Data columns (total 5 columns):\n",
      " #   Column                   Non-Null Count  Dtype \n",
      "---  ------                   --------------  ----- \n",
      " 0   Country                  120 non-null    object\n",
      " 1   Life expectancy males    120 non-null    object\n",
      " 2   Life expectancy females  120 non-null    object\n",
      " 3   Birth rate               120 non-null    object\n",
      " 4   Death rate               120 non-null    object\n",
      "dtypes: object(5)\n",
      "memory usage: 4.8+ KB\n"
     ]
    }
   ],
   "source": [
    "df.info()"
   ]
  },
  {
   "cell_type": "code",
   "execution_count": 5,
   "id": "93833967",
   "metadata": {},
   "outputs": [
    {
     "data": {
      "text/html": [
       "<div>\n",
       "<style scoped>\n",
       "    .dataframe tbody tr th:only-of-type {\n",
       "        vertical-align: middle;\n",
       "    }\n",
       "\n",
       "    .dataframe tbody tr th {\n",
       "        vertical-align: top;\n",
       "    }\n",
       "\n",
       "    .dataframe thead th {\n",
       "        text-align: right;\n",
       "    }\n",
       "</style>\n",
       "<table border=\"1\" class=\"dataframe\">\n",
       "  <thead>\n",
       "    <tr style=\"text-align: right;\">\n",
       "      <th></th>\n",
       "      <th>Birth rate</th>\n",
       "      <th>Death rate</th>\n",
       "    </tr>\n",
       "  </thead>\n",
       "  <tbody>\n",
       "    <tr>\n",
       "      <th>count</th>\n",
       "      <td>120</td>\n",
       "      <td>120</td>\n",
       "    </tr>\n",
       "    <tr>\n",
       "      <th>unique</th>\n",
       "      <td>96</td>\n",
       "      <td>82</td>\n",
       "    </tr>\n",
       "    <tr>\n",
       "      <th>top</th>\n",
       "      <td>9.6 ‰</td>\n",
       "      <td>6.8 ‰</td>\n",
       "    </tr>\n",
       "    <tr>\n",
       "      <th>freq</th>\n",
       "      <td>4</td>\n",
       "      <td>5</td>\n",
       "    </tr>\n",
       "  </tbody>\n",
       "</table>\n",
       "</div>"
      ],
      "text/plain": [
       "       Birth rate Death rate\n",
       "count         120        120\n",
       "unique         96         82\n",
       "top         9.6 ‰      6.8 ‰\n",
       "freq            4          5"
      ]
     },
     "execution_count": 5,
     "metadata": {},
     "output_type": "execute_result"
    }
   ],
   "source": [
    "df[['Birth rate', 'Death rate']].describe()"
   ]
  },
  {
   "cell_type": "code",
   "execution_count": 9,
   "id": "e4bad874",
   "metadata": {},
   "outputs": [],
   "source": [
    "df['Birth rate'] = df['Birth rate'].str.replace(' ‰', '').astype(float)"
   ]
  },
  {
   "cell_type": "code",
   "execution_count": 11,
   "id": "9e4982e2",
   "metadata": {},
   "outputs": [],
   "source": [
    "df['Death rate'] = df['Death rate'].str.replace(' ‰', '').astype(float)"
   ]
  },
  {
   "cell_type": "code",
   "execution_count": 12,
   "id": "b0c023d9",
   "metadata": {},
   "outputs": [
    {
     "data": {
      "text/html": [
       "<div>\n",
       "<style scoped>\n",
       "    .dataframe tbody tr th:only-of-type {\n",
       "        vertical-align: middle;\n",
       "    }\n",
       "\n",
       "    .dataframe tbody tr th {\n",
       "        vertical-align: top;\n",
       "    }\n",
       "\n",
       "    .dataframe thead th {\n",
       "        text-align: right;\n",
       "    }\n",
       "</style>\n",
       "<table border=\"1\" class=\"dataframe\">\n",
       "  <thead>\n",
       "    <tr style=\"text-align: right;\">\n",
       "      <th></th>\n",
       "      <th>Country</th>\n",
       "      <th>Life expectancy males</th>\n",
       "      <th>Life expectancy females</th>\n",
       "      <th>Birth rate</th>\n",
       "      <th>Death rate</th>\n",
       "    </tr>\n",
       "  </thead>\n",
       "  <tbody>\n",
       "    <tr>\n",
       "      <th>0</th>\n",
       "      <td>Hong Kong *</td>\n",
       "      <td>83.2 years</td>\n",
       "      <td>87.9 years</td>\n",
       "      <td>5.0</td>\n",
       "      <td>6.9</td>\n",
       "    </tr>\n",
       "    <tr>\n",
       "      <th>1</th>\n",
       "      <td>Macao *</td>\n",
       "      <td>82.8 years</td>\n",
       "      <td>87.9 years</td>\n",
       "      <td>10.1</td>\n",
       "      <td>4.1</td>\n",
       "    </tr>\n",
       "    <tr>\n",
       "      <th>2</th>\n",
       "      <td>Switzerland</td>\n",
       "      <td>81.9 years</td>\n",
       "      <td>85.9 years</td>\n",
       "      <td>10.3</td>\n",
       "      <td>8.2</td>\n",
       "    </tr>\n",
       "    <tr>\n",
       "      <th>3</th>\n",
       "      <td>Iceland</td>\n",
       "      <td>81.8 years</td>\n",
       "      <td>84.5 years</td>\n",
       "      <td>13.1</td>\n",
       "      <td>6.3</td>\n",
       "    </tr>\n",
       "    <tr>\n",
       "      <th>4</th>\n",
       "      <td>Norway</td>\n",
       "      <td>81.7 years</td>\n",
       "      <td>84.7 years</td>\n",
       "      <td>10.4</td>\n",
       "      <td>7.8</td>\n",
       "    </tr>\n",
       "    <tr>\n",
       "      <th>...</th>\n",
       "      <td>...</td>\n",
       "      <td>...</td>\n",
       "      <td>...</td>\n",
       "      <td>...</td>\n",
       "      <td>...</td>\n",
       "    </tr>\n",
       "    <tr>\n",
       "      <th>95</th>\n",
       "      <td>Ukraine</td>\n",
       "      <td>65.2 years</td>\n",
       "      <td>74.4 years</td>\n",
       "      <td>7.3</td>\n",
       "      <td>18.5</td>\n",
       "    </tr>\n",
       "    <tr>\n",
       "      <th>96</th>\n",
       "      <td>Senegal</td>\n",
       "      <td>64.8 years</td>\n",
       "      <td>69.3 years</td>\n",
       "      <td>32.6</td>\n",
       "      <td>5.9</td>\n",
       "    </tr>\n",
       "    <tr>\n",
       "      <th>97</th>\n",
       "      <td>Russia</td>\n",
       "      <td>64.2 years</td>\n",
       "      <td>74.8 years</td>\n",
       "      <td>9.6</td>\n",
       "      <td>16.7</td>\n",
       "    </tr>\n",
       "    <tr>\n",
       "      <th>98</th>\n",
       "      <td>Tanzania</td>\n",
       "      <td>64.2 years</td>\n",
       "      <td>68.3 years</td>\n",
       "      <td>36.2</td>\n",
       "      <td>6.2</td>\n",
       "    </tr>\n",
       "    <tr>\n",
       "      <th>99</th>\n",
       "      <td>Pakistan</td>\n",
       "      <td>63.8 years</td>\n",
       "      <td>68.6 years</td>\n",
       "      <td>27.5</td>\n",
       "      <td>7.2</td>\n",
       "    </tr>\n",
       "  </tbody>\n",
       "</table>\n",
       "<p>100 rows × 5 columns</p>\n",
       "</div>"
      ],
      "text/plain": [
       "        Country Life expectancy males Life expectancy females  Birth rate  \\\n",
       "0   Hong Kong *            83.2 years              87.9 years         5.0   \n",
       "1       Macao *            82.8 years              87.9 years        10.1   \n",
       "2   Switzerland            81.9 years              85.9 years        10.3   \n",
       "3       Iceland            81.8 years              84.5 years        13.1   \n",
       "4        Norway            81.7 years              84.7 years        10.4   \n",
       "..          ...                   ...                     ...         ...   \n",
       "95      Ukraine            65.2 years              74.4 years         7.3   \n",
       "96      Senegal            64.8 years              69.3 years        32.6   \n",
       "97       Russia            64.2 years              74.8 years         9.6   \n",
       "98     Tanzania            64.2 years              68.3 years        36.2   \n",
       "99     Pakistan            63.8 years              68.6 years        27.5   \n",
       "\n",
       "    Death rate  \n",
       "0          6.9  \n",
       "1          4.1  \n",
       "2          8.2  \n",
       "3          6.3  \n",
       "4          7.8  \n",
       "..         ...  \n",
       "95        18.5  \n",
       "96         5.9  \n",
       "97        16.7  \n",
       "98         6.2  \n",
       "99         7.2  \n",
       "\n",
       "[100 rows x 5 columns]"
      ]
     },
     "execution_count": 12,
     "metadata": {},
     "output_type": "execute_result"
    }
   ],
   "source": [
    "df.head(100)"
   ]
  },
  {
   "cell_type": "code",
   "execution_count": 13,
   "id": "7db1dfa0",
   "metadata": {},
   "outputs": [
    {
     "data": {
      "text/html": [
       "<div>\n",
       "<style scoped>\n",
       "    .dataframe tbody tr th:only-of-type {\n",
       "        vertical-align: middle;\n",
       "    }\n",
       "\n",
       "    .dataframe tbody tr th {\n",
       "        vertical-align: top;\n",
       "    }\n",
       "\n",
       "    .dataframe thead th {\n",
       "        text-align: right;\n",
       "    }\n",
       "</style>\n",
       "<table border=\"1\" class=\"dataframe\">\n",
       "  <thead>\n",
       "    <tr style=\"text-align: right;\">\n",
       "      <th></th>\n",
       "      <th>Birth rate</th>\n",
       "      <th>Death rate</th>\n",
       "    </tr>\n",
       "  </thead>\n",
       "  <tbody>\n",
       "    <tr>\n",
       "      <th>count</th>\n",
       "      <td>120.000000</td>\n",
       "      <td>120.000000</td>\n",
       "    </tr>\n",
       "    <tr>\n",
       "      <th>mean</th>\n",
       "      <td>16.870833</td>\n",
       "      <td>8.879167</td>\n",
       "    </tr>\n",
       "    <tr>\n",
       "      <th>std</th>\n",
       "      <td>9.513612</td>\n",
       "      <td>3.809407</td>\n",
       "    </tr>\n",
       "    <tr>\n",
       "      <th>min</th>\n",
       "      <td>5.000000</td>\n",
       "      <td>1.300000</td>\n",
       "    </tr>\n",
       "    <tr>\n",
       "      <th>25%</th>\n",
       "      <td>10.075000</td>\n",
       "      <td>6.600000</td>\n",
       "    </tr>\n",
       "    <tr>\n",
       "      <th>50%</th>\n",
       "      <td>13.750000</td>\n",
       "      <td>8.050000</td>\n",
       "    </tr>\n",
       "    <tr>\n",
       "      <th>75%</th>\n",
       "      <td>21.425000</td>\n",
       "      <td>10.325000</td>\n",
       "    </tr>\n",
       "    <tr>\n",
       "      <th>max</th>\n",
       "      <td>45.300000</td>\n",
       "      <td>21.700000</td>\n",
       "    </tr>\n",
       "  </tbody>\n",
       "</table>\n",
       "</div>"
      ],
      "text/plain": [
       "       Birth rate  Death rate\n",
       "count  120.000000  120.000000\n",
       "mean    16.870833    8.879167\n",
       "std      9.513612    3.809407\n",
       "min      5.000000    1.300000\n",
       "25%     10.075000    6.600000\n",
       "50%     13.750000    8.050000\n",
       "75%     21.425000   10.325000\n",
       "max     45.300000   21.700000"
      ]
     },
     "execution_count": 13,
     "metadata": {},
     "output_type": "execute_result"
    }
   ],
   "source": [
    "df[['Birth rate', 'Death rate']].describe()"
   ]
  },
  {
   "cell_type": "code",
   "execution_count": 14,
   "id": "e66f3528",
   "metadata": {},
   "outputs": [
    {
     "data": {
      "text/plain": [
       "(120, 5)"
      ]
     },
     "execution_count": 14,
     "metadata": {},
     "output_type": "execute_result"
    }
   ],
   "source": [
    "df.shape"
   ]
  },
  {
   "cell_type": "code",
   "execution_count": 15,
   "id": "feca69e8",
   "metadata": {},
   "outputs": [
    {
     "name": "stdout",
     "output_type": "stream",
     "text": [
      "1.2215417463631702e-12\n"
     ]
    }
   ],
   "source": [
    "ttest,pval = stats.ttest_rel(df['Birth rate'], df['Death rate'])\n",
    "print(pval)"
   ]
  },
  {
   "cell_type": "code",
   "execution_count": 16,
   "id": "9867eefe",
   "metadata": {},
   "outputs": [
    {
     "name": "stdout",
     "output_type": "stream",
     "text": [
      "reject null hypothesis\n"
     ]
    }
   ],
   "source": [
    "if pval<0.05:\n",
    "    print(\"reject null hypothesis\")\n",
    "else:\n",
    "    print(\"accept null hypothesis\")"
   ]
  },
  {
   "cell_type": "code",
   "execution_count": null,
   "id": "f35bd6a5",
   "metadata": {},
   "outputs": [],
   "source": []
  }
 ],
 "metadata": {
  "kernelspec": {
   "display_name": "Python 3 (ipykernel)",
   "language": "python",
   "name": "python3"
  },
  "language_info": {
   "codemirror_mode": {
    "name": "ipython",
    "version": 3
   },
   "file_extension": ".py",
   "mimetype": "text/x-python",
   "name": "python",
   "nbconvert_exporter": "python",
   "pygments_lexer": "ipython3",
   "version": "3.9.12"
  }
 },
 "nbformat": 4,
 "nbformat_minor": 5
}
